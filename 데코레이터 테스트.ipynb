{
 "cells": [
  {
   "cell_type": "code",
   "execution_count": 2,
   "id": "ba35950d",
   "metadata": {},
   "outputs": [
    {
     "data": {
      "text/plain": [
       "1"
      ]
     },
     "execution_count": 2,
     "metadata": {},
     "output_type": "execute_result"
    }
   ],
   "source": [
    "def foo():\n",
    "    return 1\n",
    "\n",
    "foo()"
   ]
  },
  {
   "cell_type": "code",
   "execution_count": 5,
   "id": "f151d24b",
   "metadata": {},
   "outputs": [
    {
     "name": "stdout",
     "output_type": "stream",
     "text": [
      "{'arg': 20, 'x': 10}\n",
      "{'__name__': '__main__', '__doc__': 'Automatically created module for IPython interactive environment', '__package__': None, '__loader__': None, '__spec__': None, '__builtin__': <module 'builtins' (built-in)>, '__builtins__': <module 'builtins' (built-in)>, '_ih': ['', 'def foo():\\n    return 1\\n\\nfoo()', 'def foo():\\n    return 1\\n\\nfoo()', 'def foo(arg):\\n    x = 10\\n    print(locals())\\n    \\nfoo(20)', 'y = 20\\ndef foo(arg):\\n    x = 10\\n    print(locals())\\n    \\nfoo(20)\\nprint(globals())', 'y = 20\\ndef foo(arg):\\n    x = 10\\n    print(locals())\\n    \\nfoo(20)\\nprint(globals())'], '_oh': {1: 1, 2: 1}, '_dh': ['C:\\\\Users\\\\frank\\\\Desktop\\\\decorater'], 'In': ['', 'def foo():\\n    return 1\\n\\nfoo()', 'def foo():\\n    return 1\\n\\nfoo()', 'def foo(arg):\\n    x = 10\\n    print(locals())\\n    \\nfoo(20)', 'y = 20\\ndef foo(arg):\\n    x = 10\\n    print(locals())\\n    \\nfoo(20)\\nprint(globals())', 'y = 20\\ndef foo(arg):\\n    x = 10\\n    print(locals())\\n    \\nfoo(20)\\nprint(globals())'], 'Out': {1: 1, 2: 1}, 'get_ipython': <bound method InteractiveShell.get_ipython of <ipykernel.zmqshell.ZMQInteractiveShell object at 0x00000200C0CBEBB0>>, 'exit': <IPython.core.autocall.ZMQExitAutocall object at 0x00000200C0CCA3A0>, 'quit': <IPython.core.autocall.ZMQExitAutocall object at 0x00000200C0CCA3A0>, '_': 1, '__': 1, '___': '', '_i': 'y = 20\\ndef foo(arg):\\n    x = 10\\n    print(locals())\\n    \\nfoo(20)\\nprint(globals())', '_ii': 'def foo(arg):\\n    x = 10\\n    print(locals())\\n    \\nfoo(20)', '_iii': 'def foo():\\n    return 1\\n\\nfoo()', '_i1': 'def foo():\\n    return 1\\n\\nfoo()', 'foo': <function foo at 0x00000200C108D160>, '_1': 1, '_i2': 'def foo():\\n    return 1\\n\\nfoo()', '_2': 1, '_i3': 'def foo(arg):\\n    x = 10\\n    print(locals())\\n    \\nfoo(20)', '_i4': 'y = 20\\ndef foo(arg):\\n    x = 10\\n    print(locals())\\n    \\nfoo(20)\\nprint(globals())', 'y': 20, '_i5': 'y = 20\\ndef foo(arg):\\n    x = 10\\n    print(locals())\\n    \\nfoo(20)\\nprint(globals())'}\n"
     ]
    }
   ],
   "source": [
    "y = 20\n",
    "def foo(arg):\n",
    "    x = 10\n",
    "    print(locals())\n",
    "    \n",
    "foo(20)\n",
    "print(globals())"
   ]
  },
  {
   "cell_type": "code",
   "execution_count": 7,
   "id": "f4b8fe00",
   "metadata": {},
   "outputs": [
    {
     "data": {
      "text/plain": [
       "{'__name__': '__main__',\n",
       " '__doc__': 'Automatically created module for IPython interactive environment',\n",
       " '__package__': None,\n",
       " '__loader__': None,\n",
       " '__spec__': None,\n",
       " '__builtin__': <module 'builtins' (built-in)>,\n",
       " '__builtins__': <module 'builtins' (built-in)>,\n",
       " '_ih': ['',\n",
       "  'def foo():\\n    return 1\\n\\nfoo()',\n",
       "  'def foo():\\n    return 1\\n\\nfoo()',\n",
       "  'def foo(arg):\\n    x = 10\\n    print(locals())\\n    \\nfoo(20)',\n",
       "  'y = 20\\ndef foo(arg):\\n    x = 10\\n    print(locals())\\n    \\nfoo(20)\\nprint(globals())',\n",
       "  'y = 20\\ndef foo(arg):\\n    x = 10\\n    print(locals())\\n    \\nfoo(20)\\nprint(globals())',\n",
       "  'y = 20\\n\\nglobals()',\n",
       "  'y = 20\\n\\nglobals()'],\n",
       " '_oh': {1: 1, 2: 1, 6: {...}},\n",
       " '_dh': ['C:\\\\Users\\\\frank\\\\Desktop\\\\decorater'],\n",
       " 'In': ['',\n",
       "  'def foo():\\n    return 1\\n\\nfoo()',\n",
       "  'def foo():\\n    return 1\\n\\nfoo()',\n",
       "  'def foo(arg):\\n    x = 10\\n    print(locals())\\n    \\nfoo(20)',\n",
       "  'y = 20\\ndef foo(arg):\\n    x = 10\\n    print(locals())\\n    \\nfoo(20)\\nprint(globals())',\n",
       "  'y = 20\\ndef foo(arg):\\n    x = 10\\n    print(locals())\\n    \\nfoo(20)\\nprint(globals())',\n",
       "  'y = 20\\n\\nglobals()',\n",
       "  'y = 20\\n\\nglobals()'],\n",
       " 'Out': {1: 1, 2: 1, 6: {...}},\n",
       " 'get_ipython': <bound method InteractiveShell.get_ipython of <ipykernel.zmqshell.ZMQInteractiveShell object at 0x00000200C0CBEBB0>>,\n",
       " 'exit': <IPython.core.autocall.ZMQExitAutocall at 0x200c0cca3a0>,\n",
       " 'quit': <IPython.core.autocall.ZMQExitAutocall at 0x200c0cca3a0>,\n",
       " '_': {...},\n",
       " '__': 1,\n",
       " '___': 1,\n",
       " '_i': 'y = 20\\n\\nglobals()',\n",
       " '_ii': 'y = 20\\ndef foo(arg):\\n    x = 10\\n    print(locals())\\n    \\nfoo(20)\\nprint(globals())',\n",
       " '_iii': 'y = 20\\ndef foo(arg):\\n    x = 10\\n    print(locals())\\n    \\nfoo(20)\\nprint(globals())',\n",
       " '_i1': 'def foo():\\n    return 1\\n\\nfoo()',\n",
       " 'foo': <function __main__.foo(arg)>,\n",
       " '_1': 1,\n",
       " '_i2': 'def foo():\\n    return 1\\n\\nfoo()',\n",
       " '_2': 1,\n",
       " '_i3': 'def foo(arg):\\n    x = 10\\n    print(locals())\\n    \\nfoo(20)',\n",
       " '_i4': 'y = 20\\ndef foo(arg):\\n    x = 10\\n    print(locals())\\n    \\nfoo(20)\\nprint(globals())',\n",
       " 'y': 20,\n",
       " '_i5': 'y = 20\\ndef foo(arg):\\n    x = 10\\n    print(locals())\\n    \\nfoo(20)\\nprint(globals())',\n",
       " '_i6': 'y = 20\\n\\nglobals()',\n",
       " '_6': {...},\n",
       " '_i7': 'y = 20\\n\\nglobals()'}"
      ]
     },
     "execution_count": 7,
     "metadata": {},
     "output_type": "execute_result"
    }
   ],
   "source": [
    "y = 20\n",
    "\n",
    "globals()"
   ]
  },
  {
   "cell_type": "code",
   "execution_count": 9,
   "id": "6e68067d",
   "metadata": {},
   "outputs": [
    {
     "name": "stdout",
     "output_type": "stream",
     "text": [
      "1\n"
     ]
    }
   ],
   "source": [
    "def outer():\n",
    "    x = 1\n",
    "    def inner():\n",
    "        print(x)\n",
    "    inner()\n",
    "    \n",
    "outer()"
   ]
  },
  {
   "cell_type": "code",
   "execution_count": 16,
   "id": "527f769b",
   "metadata": {},
   "outputs": [
    {
     "name": "stdout",
     "output_type": "stream",
     "text": [
      "<class 'type'>\n",
      "<class 'function'>\n"
     ]
    },
    {
     "data": {
      "text/plain": [
       "True"
      ]
     },
     "execution_count": 16,
     "metadata": {},
     "output_type": "execute_result"
    }
   ],
   "source": [
    "issubclass(float, object)\n",
    "\n",
    "print(float.__class__)\n",
    "\n",
    "def foo():\n",
    "    pass\n",
    "\n",
    "print(foo.__class__)\n",
    "issubclass(foo.__class__, object)"
   ]
  },
  {
   "cell_type": "code",
   "execution_count": 19,
   "id": "b8ae0064",
   "metadata": {},
   "outputs": [
    {
     "name": "stdout",
     "output_type": "stream",
     "text": [
      "50\n",
      "20\n"
     ]
    }
   ],
   "source": [
    "def add(x, y):\n",
    "    return x + y\n",
    "\n",
    "def sub(x, y):\n",
    "    return x - y\n",
    "\n",
    "def apply(func, x, y):\n",
    "    return func(x, y)\n",
    "\n",
    "print(apply(add, 30, 20))\n",
    "print(apply(sub, 40, 20))"
   ]
  },
  {
   "cell_type": "code",
   "execution_count": 21,
   "id": "a0915d7e",
   "metadata": {},
   "outputs": [
    {
     "name": "stdout",
     "output_type": "stream",
     "text": [
      "<class 'function'> <function outer.<locals>.inner at 0x00000200C116B550>\n",
      "inner func\n"
     ]
    }
   ],
   "source": [
    "def outer():\n",
    "    def inner():\n",
    "        print(\"inner func\")\n",
    "    return inner\n",
    "\n",
    "fn = outer()\n",
    "print(fn.__class__, fn)\n",
    "fn()"
   ]
  },
  {
   "cell_type": "code",
   "execution_count": 2,
   "id": "74cf9eb9",
   "metadata": {},
   "outputs": [
    {
     "ename": "AttributeError",
     "evalue": "'function' object has no attribute 'func_closure'",
     "output_type": "error",
     "traceback": [
      "\u001b[1;31m---------------------------------------------------------------------------\u001b[0m",
      "\u001b[1;31mAttributeError\u001b[0m                            Traceback (most recent call last)",
      "\u001b[1;32m~\\AppData\\Local\\Temp\\ipykernel_9708\\1039906407.py\u001b[0m in \u001b[0;36m<module>\u001b[1;34m\u001b[0m\n\u001b[0;32m      6\u001b[0m \u001b[0mfoo\u001b[0m \u001b[1;33m=\u001b[0m \u001b[0mouter\u001b[0m\u001b[1;33m(\u001b[0m\u001b[1;33m)\u001b[0m\u001b[1;33m\u001b[0m\u001b[1;33m\u001b[0m\u001b[0m\n\u001b[0;32m      7\u001b[0m \u001b[1;31m# foo.func_closure\u001b[0m\u001b[1;33m\u001b[0m\u001b[1;33m\u001b[0m\u001b[0m\n\u001b[1;32m----> 8\u001b[1;33m \u001b[0mprint\u001b[0m\u001b[1;33m(\u001b[0m\u001b[0mfoo\u001b[0m\u001b[1;33m.\u001b[0m\u001b[0mfunc_closure\u001b[0m\u001b[1;33m)\u001b[0m\u001b[1;33m\u001b[0m\u001b[1;33m\u001b[0m\u001b[0m\n\u001b[0m",
      "\u001b[1;31mAttributeError\u001b[0m: 'function' object has no attribute 'func_closure'"
     ]
    }
   ],
   "source": [
    "def outer():\n",
    "    x = 1\n",
    "    def inner():\n",
    "        print(x)\n",
    "    return inner\n",
    "foo = outer()\n",
    "# foo.func_closure -- Error\n",
    "print(foo)"
   ]
  },
  {
   "cell_type": "code",
   "execution_count": 3,
   "id": "53ea6fe0",
   "metadata": {},
   "outputs": [
    {
     "name": "stdout",
     "output_type": "stream",
     "text": [
      "befor some_func\n"
     ]
    },
    {
     "data": {
      "text/plain": [
       "2"
      ]
     },
     "execution_count": 3,
     "metadata": {},
     "output_type": "execute_result"
    }
   ],
   "source": [
    "def outer(some_fuc):\n",
    "    def inner():\n",
    "        print('befor some_func')\n",
    "        ret = some_fuc()\n",
    "        return ret + 1\n",
    "    return inner\n",
    "\n",
    "def foo():\n",
    "    return 1\n",
    "\n",
    "deco = outer(foo)\n",
    "deco()"
   ]
  },
  {
   "cell_type": "code",
   "execution_count": 4,
   "id": "8f5fb6a7",
   "metadata": {},
   "outputs": [
    {
     "name": "stdout",
     "output_type": "stream",
     "text": [
      "Coord : {'x': 400, 'y': 600}\n",
      "Coord : {'x': -200, 'y': -200}\n"
     ]
    }
   ],
   "source": [
    "class Coordinate():\n",
    "    def __init__(self, x, y):\n",
    "        self.x = x\n",
    "        self.y = y\n",
    "    def __repr__(self):\n",
    "        return \"Coord : \" + str(self.__dict__)\n",
    "    \n",
    "def add(a, b):\n",
    "    return Coordinate(a.x + b.x, a.y + b.y)\n",
    "\n",
    "def sub(a, b):\n",
    "    return Coordinate(a.x - b.x, a.y - b.y)\n",
    "\n",
    "one =  Coordinate(100, 200)\n",
    "two =  Coordinate(300, 400)\n",
    "three =  Coordinate(-100, -100)\n",
    "\n",
    "print(add(one, two))\n",
    "print(sub(one, two))"
   ]
  },
  {
   "cell_type": "code",
   "execution_count": 5,
   "id": "39ca4fd9",
   "metadata": {},
   "outputs": [
    {
     "name": "stdout",
     "output_type": "stream",
     "text": [
      "Coord : {'x': 0, 'y': 0}\n",
      "Coord : {'x': 100, 'y': 200}\n"
     ]
    }
   ],
   "source": [
    "# 좌표는 음수가 없음\n",
    "def wrapper(func):\n",
    "    def checker(a, b):\n",
    "        a = Coordinate(a.x if a.x > 0 else 0, a.y if a.y > 0 else 0)\n",
    "        b = Coordinate(b.x if b.x > 0 else 0, b.y if b.y > 0 else 0)\n",
    "        \n",
    "        ret = func(a, b)\n",
    "        ret = Coordinate(ret.x if ret.x > 0 else 0, ret.y if ret.y > 0 else 0)\n",
    "        return ret\n",
    "    return checker\n",
    "\n",
    "add = wrapper(add)\n",
    "sub = wrapper(sub)\n",
    "\n",
    "print(sub(one, two))\n",
    "print(add(one, three))\n",
    "        "
   ]
  },
  {
   "cell_type": "code",
   "execution_count": 7,
   "id": "44c3e438",
   "metadata": {},
   "outputs": [
    {
     "name": "stdout",
     "output_type": "stream",
     "text": [
      "Coord : {'x': 0, 'y': 0}\n",
      "Coord : {'x': 100, 'y': 200}\n"
     ]
    }
   ],
   "source": [
    "@wrapper\n",
    "def add_1(a, b):\n",
    "    return Coordinate(a.x + b.x, a.y + b.y)\n",
    "\n",
    "@wrapper\n",
    "def sub_1(a, b):\n",
    "    return Coordinate(a.x - b.x, a.y - b.y)\n",
    "\n",
    "print(sub_1(one, two))\n",
    "print(add_1(one, three))"
   ]
  }
 ],
 "metadata": {
  "kernelspec": {
   "display_name": "Python 3 (ipykernel)",
   "language": "python",
   "name": "python3"
  },
  "language_info": {
   "codemirror_mode": {
    "name": "ipython",
    "version": 3
   },
   "file_extension": ".py",
   "mimetype": "text/x-python",
   "name": "python",
   "nbconvert_exporter": "python",
   "pygments_lexer": "ipython3",
   "version": "3.9.13"
  }
 },
 "nbformat": 4,
 "nbformat_minor": 5
}
